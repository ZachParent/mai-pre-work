{
 "cells": [
  {
   "cell_type": "markdown",
   "metadata": {},
   "source": [
    "# Wealth Forecaster"
   ]
  },
  {
   "cell_type": "code",
   "execution_count": 14,
   "metadata": {},
   "outputs": [],
   "source": [
    "import numpy as np\n",
    "import matplotlib.pyplot as plt\n",
    "import seaborn as sns\n",
    "import ipywidgets as widgets\n",
    "from ipywidgets import interact\n",
    "import logging"
   ]
  },
  {
   "cell_type": "code",
   "execution_count": 15,
   "metadata": {},
   "outputs": [],
   "source": [
    "logging.basicConfig(format='%(asctime)s - %(levelname)s - %(message)s')\n",
    "logger = logging.getLogger()\n",
    "logger.setLevel(logging.DEBUG)"
   ]
  },
  {
   "cell_type": "code",
   "execution_count": 16,
   "metadata": {},
   "outputs": [],
   "source": [
    "def forecast_net_worth(starting_capital, investment_per_year, growth_rate, years):\n",
    "    net_worth = [starting_capital]\n",
    "    for year in range(1, years + 1):\n",
    "        new_value = net_worth[-1] * (1 + growth_rate / 100) + investment_per_year\n",
    "        net_worth.append(new_value)\n",
    "    return np.array(net_worth)"
   ]
  },
  {
   "cell_type": "code",
   "execution_count": 17,
   "metadata": {},
   "outputs": [],
   "source": [
    "logger.debug(forecast_net_worth(10000, 1000, 5, 30))"
   ]
  },
  {
   "cell_type": "code",
   "execution_count": 18,
   "metadata": {},
   "outputs": [],
   "source": [
    "def plot_forecast(starting_capital, investment_per_year, growth_rate, years):\n",
    "    net_worth = forecast_net_worth(starting_capital, investment_per_year, growth_rate, years)\n",
    "    \n",
    "    # Create a Seaborn line plot\n",
    "    sns.set(style=\"whitegrid\")\n",
    "    plt.figure(figsize=(10, 6))\n",
    "    sns.lineplot(x=np.arange(0, years + 1), y=net_worth, marker='o', color='b')\n",
    "    \n",
    "    plt.title('Forecast of Future Net Worth Over Time', fontsize=16)\n",
    "    plt.xlabel('Years', fontsize=14)\n",
    "    plt.ylabel('Net Worth ($)', fontsize=14)\n",
    "    \n",
    "    # Set y-scale to the next highest power of 10 or half of it\n",
    "    max_value = np.max(net_worth)\n",
    "    next_power_of_10 = 10 ** np.ceil(np.log10(max_value))\n",
    "    if max_value < next_power_of_10 / 2:\n",
    "        plt.ylim(0, next_power_of_10 / 2)\n",
    "    else:\n",
    "        plt.ylim(0, next_power_of_10)\n",
    "    \n",
    "    plt.show()"
   ]
  },
  {
   "cell_type": "code",
   "execution_count": 19,
   "metadata": {},
   "outputs": [],
   "source": [
    "if logger.level <= logging.DEBUG:\n",
    "    plot_forecast(10000, 1000, 5, 30)"
   ]
  },
  {
   "cell_type": "code",
   "execution_count": 20,
   "metadata": {},
   "outputs": [
    {
     "data": {
      "application/vnd.jupyter.widget-view+json": {
       "model_id": "3638fb8f0bbe42ea8b8669bb58153056",
       "version_major": 2,
       "version_minor": 0
      },
      "text/plain": [
       "interactive(children=(FloatSlider(value=10000.0, description='Starting Capital ($)', max=100000.0, min=1000.0,…"
      ]
     },
     "metadata": {},
     "output_type": "display_data"
    },
    {
     "data": {
      "text/plain": [
       "<function __main__.plot_forecast(starting_capital, investment_per_year, growth_rate, years)>"
      ]
     },
     "execution_count": 20,
     "metadata": {},
     "output_type": "execute_result"
    }
   ],
   "source": [
    "# Define the range of years and other parameters\n",
    "years_slider = widgets.IntSlider(value=20, min=1, max=50, step=1, description='Years')\n",
    "starting_capital_slider = widgets.FloatSlider(value=10000, min=1000, max=100000, step=1000, description='Starting Capital ($)')\n",
    "investment_per_year_slider = widgets.FloatSlider(value=5000, min=0, max=50000, step=1000, description='Investment Per Year ($)')\n",
    "growth_rate_slider = widgets.FloatSlider(value=5, min=0, max=20, step=0.1, description='Growth Rate (%)')\n",
    "\n",
    "# Use interact to create an interactive plot\n",
    "interact(plot_forecast, \n",
    "         starting_capital=starting_capital_slider, \n",
    "         investment_per_year=investment_per_year_slider, \n",
    "         growth_rate=growth_rate_slider, \n",
    "         years=years_slider)\n"
   ]
  }
 ],
 "metadata": {
  "kernelspec": {
   "display_name": "Python 3",
   "language": "python",
   "name": "python3"
  },
  "language_info": {
   "codemirror_mode": {
    "name": "ipython",
    "version": 3
   },
   "file_extension": ".py",
   "mimetype": "text/x-python",
   "name": "python",
   "nbconvert_exporter": "python",
   "pygments_lexer": "ipython3",
   "version": "3.12.4"
  }
 },
 "nbformat": 4,
 "nbformat_minor": 2
}
