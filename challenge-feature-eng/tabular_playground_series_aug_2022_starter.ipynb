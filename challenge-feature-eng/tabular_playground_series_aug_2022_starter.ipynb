{
 "cells": [
  {
   "cell_type": "code",
   "execution_count": 1,
   "metadata": {},
   "outputs": [],
   "source": [
    "import pandas as pd\n",
    "import numpy as np\n",
    "import matplotlib.pyplot as plt\n",
    "import seaborn as sns\n",
    "\n",
    "train_df = pd.read_csv('kaggle-tabular-playground-series-aug-2022/train.csv')\n",
    "test_df = pd.read_csv('kaggle-tabular-playground-series-aug-2022/test.csv')"
   ]
  },
  {
   "cell_type": "code",
   "execution_count": 2,
   "metadata": {},
   "outputs": [
    {
     "name": "stdout",
     "output_type": "stream",
     "text": [
      "Shape of X after imputation: (26570, 31)\n",
      "Shape of y: (26570,)\n",
      "Accuracy: 0.8007\n",
      "\n",
      "Classification Report:\n",
      "              precision    recall  f1-score   support\n",
      "\n",
      "           0       0.80      1.00      0.89      4257\n",
      "           1       0.40      0.00      0.01      1057\n",
      "\n",
      "    accuracy                           0.80      5314\n",
      "   macro avg       0.60      0.50      0.45      5314\n",
      "weighted avg       0.72      0.80      0.71      5314\n",
      "\n",
      "Shape of X_final: (20775, 30)\n",
      "\n",
      "Submission file created: logistic_regression_submission.csv\n"
     ]
    },
    {
     "name": "stderr",
     "output_type": "stream",
     "text": [
      "/Users/ethanmc/git-repos/mai-pre-work/kaggle_env/lib/python3.10/site-packages/sklearn/linear_model/_logistic.py:469: ConvergenceWarning: lbfgs failed to converge (status=1):\n",
      "STOP: TOTAL NO. of ITERATIONS REACHED LIMIT.\n",
      "\n",
      "Increase the number of iterations (max_iter) or scale the data as shown in:\n",
      "    https://scikit-learn.org/stable/modules/preprocessing.html\n",
      "Please also refer to the documentation for alternative solver options:\n",
      "    https://scikit-learn.org/stable/modules/linear_model.html#logistic-regression\n",
      "  n_iter_i = _check_optimize_result(\n"
     ]
    }
   ],
   "source": [
    "from sklearn.model_selection import train_test_split\n",
    "from sklearn.linear_model import LogisticRegression\n",
    "from sklearn.preprocessing import StandardScaler\n",
    "from sklearn.metrics import accuracy_score, classification_report\n",
    "from sklearn.impute import SimpleImputer\n",
    "\n",
    "\n",
    "# Prepare the data\n",
    "X = train_df.drop(['id', 'failure'], axis=1)\n",
    "y = train_df['failure']\n",
    "\n",
    "# Define categorical variables\n",
    "categorical_features = ['product_code', 'attribute_0', 'attribute_1']\n",
    "\n",
    "# Handle categorical variables with one-hot encoding\n",
    "X = pd.get_dummies(X, columns=categorical_features)\n",
    "\n",
    "# Define numeric features (all columns that are not categorical)\n",
    "numeric_features = [col for col in X.columns if not any(col.startswith(cat_feat) for cat_feat in categorical_features)]\n",
    "\n",
    "# Impute numeric features with median\n",
    "numeric_imputer = SimpleImputer(strategy='median')\n",
    "X[numeric_features] = numeric_imputer.fit_transform(X[numeric_features])\n",
    "\n",
    "# No need to impute categorical features as they've been one-hot encoded\n",
    "\n",
    "print(f\"Shape of X after imputation: {X.shape}\")\n",
    "print(f\"Shape of y: {y.shape}\")\n",
    "\n",
    "# Split the data\n",
    "X_train, X_test, y_train, y_test = train_test_split(X, y, test_size=0.2, random_state=42)\n",
    "\n",
    "# Train the model\n",
    "model = LogisticRegression(random_state=42)\n",
    "model.fit(X_train, y_train)\n",
    "\n",
    "# Make predictions on the test set\n",
    "y_pred = model.predict(X_test)\n",
    "\n",
    "# Score the model\n",
    "accuracy = accuracy_score(y_test, y_pred)\n",
    "print(f\"Accuracy: {accuracy:.4f}\")\n",
    "\n",
    "# Print classification report\n",
    "print(\"\\nClassification Report:\")\n",
    "print(classification_report(y_test, y_pred))\n",
    "\n",
    "# Prepare the final validation data (test_df)\n",
    "X_final = test_df.drop('id', axis=1)\n",
    "X_final = pd.get_dummies(X_final, columns=categorical_features)\n",
    "\n",
    "# Impute missing values in the final validation data\n",
    "# Impute numeric features with median from the training data to avoid data leakage\n",
    "X_final.columns\n",
    "X_final[numeric_features] = numeric_imputer.transform(X_final[numeric_features])\n",
    "\n",
    "print(f\"Shape of X_final: {X_final.shape}\")\n",
    "\n",
    "# Ensure X_final has the same columns as X_train\n",
    "for col in X_train.columns:\n",
    "    if col not in X_final.columns:\n",
    "        X_final[col] = 0\n",
    "X_final = X_final[X_train.columns]\n",
    "\n",
    "# Make predictions on the final validation data\n",
    "final_predictions = model.predict(X_final)\n",
    "\n",
    "# Create a submission dataframe\n",
    "submission = pd.DataFrame({\n",
    "    'id': test_df['id'],\n",
    "    'failure': final_predictions\n",
    "})\n",
    "\n",
    "# Save the submission file\n",
    "submission.to_csv('logistic_regression_submission.csv', index=False)\n",
    "print(\"\\nSubmission file created: logistic_regression_submission.csv\")\n"
   ]
  },
  {
   "cell_type": "code",
   "execution_count": null,
   "metadata": {},
   "outputs": [],
   "source": []
  }
 ],
 "metadata": {
  "kernelspec": {
   "display_name": "kaggle_env",
   "language": "python",
   "name": "python3"
  },
  "language_info": {
   "codemirror_mode": {
    "name": "ipython",
    "version": 3
   },
   "file_extension": ".py",
   "mimetype": "text/x-python",
   "name": "python",
   "nbconvert_exporter": "python",
   "pygments_lexer": "ipython3",
   "version": "3.10.7"
  }
 },
 "nbformat": 4,
 "nbformat_minor": 2
}
